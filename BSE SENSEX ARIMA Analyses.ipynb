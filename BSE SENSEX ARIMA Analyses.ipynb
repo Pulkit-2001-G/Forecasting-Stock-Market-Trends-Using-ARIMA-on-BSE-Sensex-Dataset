{
 "cells": [
  {
   "cell_type": "code",
   "execution_count": 1,
   "id": "3399182a-5a3e-4dc5-bc0c-ab6ea5d489bf",
   "metadata": {},
   "outputs": [],
   "source": [
    "# !pip install yfinance\n",
    "# installation of yfinance API to scrape the data from yahoo finance"
   ]
  },
  {
   "cell_type": "code",
   "execution_count": 2,
   "id": "f181dc9d-5005-4cb6-ac53-23d5f1d77aaa",
   "metadata": {},
   "outputs": [],
   "source": [
    "# !pip install pmdarima\n",
    "# installation of pmdarima for the Auto ARIMA function(i.e. values of p, q & d for ARIMA are calculated automaticall using statistical function)"
   ]
  },
  {
   "cell_type": "code",
   "execution_count": 3,
   "id": "4d6fd398-0b72-4483-8b6a-ddb5811cf47b",
   "metadata": {},
   "outputs": [],
   "source": [
    "# importin the various required libraries for the ARIMA analyses\n",
    "import yfinance as yf\n",
    "import pandas as pd\n",
    "import numpy as np\n",
    "import matplotlib.pyplot as plt\n",
    "from statsmodels.tsa.stattools import adfuller # importing the required library(adfuller) from statsmodel.tsa.stt fro ADF test of stationary.\n",
    "from statsmodels.tsa.arima.model import ARIMA \n",
    "from statsmodels.tsa.stattools import acf, pacf\n",
    "from statsmodels.graphics.tsaplots import plot_acf, plot_pacf\n",
    "from pmdarima import auto_arima # importing auto_arima to cunduct AUTO ARIMA"
   ]
  },
  {
   "cell_type": "code",
   "execution_count": 4,
   "id": "f121f23e-6d78-48fb-a458-d006f6ee30f2",
   "metadata": {
    "jupyter": {
     "source_hidden": true
    }
   },
   "outputs": [],
   "source": [
    "# created a list consisting of tiker symbols used by Yfinance to scrap data from the Yahoo Finance.\n",
    "ticker_symbol = ['^BSESN', '^NSE']\n",
    "\n",
    "#created a list consisting time period values, which determine the range of data for yfinance API.\n",
    "data_period = ['max']\n",
    "\n",
    "# a dictionary is created to store the dataframe varaibles to be called/used later in different functions\n",
    "data_dic = {}"
   ]
  },
  {
   "cell_type": "raw",
   "id": "3c3c0fd1-cebc-4a02-993e-00e30cb6b257",
   "metadata": {},
   "source": [
    "Data Cleaning and scraping functions -------------------------------------------------------------------------------------------"
   ]
  },
  {
   "cell_type": "code",
   "execution_count": 5,
   "id": "de824549-87f7-4d82-9172-83980f32cd0e",
   "metadata": {},
   "outputs": [],
   "source": [
    "# created a function 'data_scrap' which fetchs the data from the yfinance for the ticker: ticker_symbol and for time range : data_period \n",
    "def data_scrap(ticker_symbol, data_period):\n",
    "    data = yf.Ticker(ticker_symbol)\n",
    "    data_his = data.history(period = data_period)\n",
    "    data_dic[f'data_{ticker_symbol}'] = data_his # stores the created dataframe in a dictionary with a custom recognizable name\n",
    "    return data_his"
   ]
  },
  {
   "cell_type": "code",
   "execution_count": 6,
   "id": "81e30cae-4a4f-4d8c-873b-a8ad136cdcf1",
   "metadata": {},
   "outputs": [],
   "source": [
    "# created a fuction to excat and store the names of column(column head) in a sperate varaible(list) \n",
    "# done for ease of use and universal repetation of task\n",
    "def data_col_nlist(data_dic, key):\n",
    "    data_col = data_dic[key].columns.tolist()\n",
    "    data_dic[f'nlist{key}'] = data_col\n",
    "    return data_col"
   ]
  },
  {
   "cell_type": "code",
   "execution_count": 7,
   "id": "cc5e9cf0-8696-4c0b-82b3-caa00726816e",
   "metadata": {},
   "outputs": [],
   "source": [
    "# cleaning the index of datagframe and dropped the columns 'Dividends' &  for clean look and better analyses\n",
    "def data_index(data_dic, data_key) :\n",
    "    index_reset = data_dic[data_key].reset_index() # reseting the index \n",
    "    index_reset['Date'] = pd.to_datetime(index_reset['Date']).dt.tz_localize(None) # removed the timezone values and converted the 'Date' column data type to date time\n",
    "    index_reset = index_reset.set_index('Date')\n",
    "    index_reset = index_reset.asfreq('B').dropna()  # Set frequency explicitly\n",
    "    data_dic[f'i{data_key}'] = index_reset\n",
    "    return index_reset"
   ]
  },
  {
   "cell_type": "code",
   "execution_count": 8,
   "id": "9aa5a45a-d9f2-4a22-a3b0-1fbc9bc27ee6",
   "metadata": {},
   "outputs": [],
   "source": [
    "# made a function to extract the column from the dataframe on which the RIMA analyses is performed\n",
    "def data_colex(data_dic, data_key, col_key, col_name, ticker_symbol):\n",
    "    if col_name not in data_dic[col_key]:\n",
    "        raise ValueError(f\"'{col_name}' is not in the column list stored under '{col_key}'\") # a crosscheck to make sure that column name exists\n",
    "    colex = data_dic[data_key][col_name].dropna() # extracting the column from the dataframe\n",
    "    # since python convertes the single varaible time series data to series \n",
    "    # next steps converts the seris back to dataframe and renames the column\n",
    "    if col_name not in ['Volume', 'Dividends', 'Stock Splits'] : # puting the coldition for renaming cloumn \n",
    "        colex = colex.to_frame(name = f'{col_name} Price')       # if condtiion maches renames the column and changes whole datatype to dataframe\n",
    "    else :\n",
    "        colex = colex.to_frame(name = col_name)                # if condtiion is met only changes whole datatype to dataframe\n",
    "\n",
    "    data_dic[f'cdata_{ticker_symbol}'] = colex\n",
    "    return colex"
   ]
  },
  {
   "cell_type": "code",
   "execution_count": 9,
   "id": "9a28cfee-2bf0-4997-b852-1474aef44d1c",
   "metadata": {},
   "outputs": [],
   "source": [
    "# created the new dictionary variable to contain the filtered and cleaned data for the purpose of ADF test\n",
    "adf_data = {}"
   ]
  },
  {
   "cell_type": "code",
   "execution_count": 10,
   "id": "8cfacdf3-aaea-442f-bb41-a65e000d8b3f",
   "metadata": {},
   "outputs": [],
   "source": [
    "# created function 'arima_date' to filter out the dataframe for the ARIMA analyses\n",
    "def data_date(data_dic, data_key, ticker_symbol, start_date, end_date):\n",
    "    data_ar = data_dic[data_key].loc[start_date : end_date].dropna()\n",
    "    adf_data[f'adf_{ticker_symbol}'] = data_ar \n",
    "    return data_ar"
   ]
  },
  {
   "cell_type": "raw",
   "id": "a2fd9930-b012-4010-8c71-f9349d65bc3d",
   "metadata": {},
   "source": [
    "ADF Test functions -------------------------------------------------------------------------------------------------------------"
   ]
  },
  {
   "cell_type": "code",
   "execution_count": 11,
   "id": "293fdfe5-425e-4b29-9b44-90efed253805",
   "metadata": {},
   "outputs": [],
   "source": [
    "# function to run the test of stationary (i.e. ADF test)\n",
    "def s_adfuller(adf_data, data_key, test_name) : \n",
    "    adf_test = adfuller(adf_data[data_key])\n",
    "    adf_data[f'{test_name}'] = adf_test \n",
    "    return adf_test"
   ]
  },
  {
   "cell_type": "code",
   "execution_count": 12,
   "id": "0b92979e-74dd-4853-891e-82fa8d841955",
   "metadata": {},
   "outputs": [],
   "source": [
    "# printing the result of test in the tabular format \n",
    "def test_result_print(adf_data, data_key):\n",
    "    result = adf_data[data_key]  # get the actual ADF result tuple\n",
    "\n",
    "    print(f\"{'Metric':<30} {'Value':>20}\")\n",
    "    print(\"-\" * 52)\n",
    "    print(f\"{'ADF Statistic':<30} {result[0]:>20.6f}\")\n",
    "    print(f\"{'p-value':<30} {result[1]:>20.6f}\")\n",
    "    print(f\"{'# Lags Used':<30} {result[2]:>20}\")\n",
    "    print(f\"{'# Observations Used':<30} {result[3]:>20}\")\n",
    "    print(f\"{'Critical Values':<30}\")\n",
    "    for key, value in result[4].items():\n",
    "        print(f\"{'   ' + key:<30} {value:>20.6f}\")"
   ]
  },
  {
   "cell_type": "code",
   "execution_count": 13,
   "id": "f44b60e5-9e8e-4c10-adad-b172eb6f74f5",
   "metadata": {},
   "outputs": [],
   "source": [
    "# to make data stationary first difference is calculated of the 'Closing Price' series\n",
    "def data_f_diff(adf_data, data_key) :\n",
    "    f_diff = adf_data[data_key]\n",
    "    f_diff = f_diff.diff().dropna()\n",
    "    adf_data[f'{data_key}_fdiff'] = f_diff\n",
    "    return f_diff"
   ]
  },
  {
   "cell_type": "code",
   "execution_count": 14,
   "id": "2de16197-7e12-4492-8f4e-67fd536db14f",
   "metadata": {},
   "outputs": [],
   "source": [
    "# function for the calculation of second difference\n",
    "def data_s_diff(adf_data, data_key) : \n",
    "    s_diff = adf_data[data_key]\n",
    "    s_diff = s_diff.diff().diff().dropna()\n",
    "    adf_data[f'{data_key}_sdiff'] = s_diff\n",
    "    return s_diff"
   ]
  },
  {
   "cell_type": "raw",
   "id": "c73c6405-3e3b-4fbe-835f-d53353393178",
   "metadata": {},
   "source": [
    "ARIMA Model functions -------------------------------------------------------------------------------------------------------------"
   ]
  },
  {
   "cell_type": "code",
   "execution_count": 15,
   "id": "8da35c24-75cd-4a30-bb86-d2b926b0cfae",
   "metadata": {},
   "outputs": [],
   "source": [
    "# creation of dictionary to keep the values of the ACF & PACF functions and ARIMA results.\n",
    "arima_data = {}"
   ]
  },
  {
   "cell_type": "code",
   "execution_count": 16,
   "id": "9fb99699-4aeb-410f-a8c0-489980ce4ce7",
   "metadata": {},
   "outputs": [],
   "source": [
    "def p_acf_pacf (adf_data, data_key, acfp_name, pacfp_name, arima_data) :\n",
    "    p_acf = plot_acf(adf_data[data_key], title = f'{data_key} Autocorrelation')\n",
    "    p_pacf = plot_pacf(adf_data[data_key], title = f'{data_key} Partial Autocorrelation')\n",
    "    arima_data[f'{acfp_name}'] = p_acf\n",
    "    arima_data[f'{pacfp_name}'] = p_pacf\n",
    "    plt.show()    \n",
    "    p_acf.figure.savefig(f\"{acfp_name}.png\")\n",
    "    p_pacf.figure.savefig(f\"{pacfp_name}.png\")\n",
    "    return plot_acf, plot_pacf"
   ]
  },
  {
   "cell_type": "code",
   "execution_count": 17,
   "id": "bbc1c715-66d9-4bc3-8629-e59a9eb9094e",
   "metadata": {},
   "outputs": [],
   "source": [
    "def v_acf_pacf (adf_data, data_key) : \n",
    "    acf_vals = acf(adf_data[data_key], nlags = 13)\n",
    "    pacf_vals = pacf(adf_data[data_key], nlags = 13)\n",
    "    acf_pacf_df = pd.DataFrame({\n",
    "    \"Lag\": range(len(acf_vals)),\n",
    "    \"ACF\": acf_vals,\n",
    "    \"PACF\": pacf_vals\n",
    "    })\n",
    "    arima_data['acf_pacf_v'] = acf_pacf_df\n",
    "    # print(acf_pacf_df)\n",
    "    return acf_pacf_df"
   ]
  },
  {
   "cell_type": "code",
   "execution_count": 18,
   "id": "c8a06d0d-d205-43e9-9811-9d62fedde687",
   "metadata": {},
   "outputs": [],
   "source": [
    "# function to run ARIMA model \n",
    "def arima_m(adf_data, data_key, p, d, q, model_name) :  # data_key & model_name to be in string\n",
    "    model = ARIMA(adf_data[data_key], order = (p, d, q))  # e.g., (1,1,1)\n",
    "    model_fit = model.fit()\n",
    "    print(model_fit.summary())\n",
    "    arima_data[f'{model_name}'] = model_fit\n",
    "    return model_fit"
   ]
  },
  {
   "cell_type": "code",
   "execution_count": 19,
   "id": "2602bd3c-6c40-479b-999f-37a6d619ea7b",
   "metadata": {},
   "outputs": [],
   "source": [
    "def forecast(arima_data, model_name, number, forecast_name) : \n",
    "    forecast = arima_data[model_name].forecast(steps = int(number))\n",
    "    arima_data[f'{forecast_name}'] = forecast\n",
    "    # print(forecast)\n",
    "    return forecast"
   ]
  },
  {
   "cell_type": "code",
   "execution_count": 20,
   "id": "7f37f281-2c48-41a4-ac61-82603297694f",
   "metadata": {},
   "outputs": [],
   "source": [
    "def a_forecast(arima_data, forecast_name, adf_data, data_key):\n",
    "    base_value = adf_data[data_key].iloc[-1, 0]  \n",
    "    forecast_series = arima_data[forecast_name]#.cumsum().cumsum()\n",
    "    n_forecast = forecast_series + base_value  \n",
    "    arima_data[f'numeric_{forecast_name}'] = n_forecast\n",
    "    return n_forecast"
   ]
  },
  {
   "cell_type": "raw",
   "id": "87aa19a4-f24e-4d2d-8ac6-71425243a975",
   "metadata": {},
   "source": [
    "Start of Data Cleaning Process-------------------------------------------------------------------------------------------------"
   ]
  },
  {
   "cell_type": "code",
   "execution_count": 21,
   "id": "4e18e547-3214-44b9-ace8-41f8c5b2a19b",
   "metadata": {},
   "outputs": [
    {
     "data": {
      "text/html": [
       "<div>\n",
       "<style scoped>\n",
       "    .dataframe tbody tr th:only-of-type {\n",
       "        vertical-align: middle;\n",
       "    }\n",
       "\n",
       "    .dataframe tbody tr th {\n",
       "        vertical-align: top;\n",
       "    }\n",
       "\n",
       "    .dataframe thead th {\n",
       "        text-align: right;\n",
       "    }\n",
       "</style>\n",
       "<table border=\"1\" class=\"dataframe\">\n",
       "  <thead>\n",
       "    <tr style=\"text-align: right;\">\n",
       "      <th></th>\n",
       "      <th>Open</th>\n",
       "      <th>High</th>\n",
       "      <th>Low</th>\n",
       "      <th>Close</th>\n",
       "      <th>Volume</th>\n",
       "      <th>Dividends</th>\n",
       "      <th>Stock Splits</th>\n",
       "    </tr>\n",
       "    <tr>\n",
       "      <th>Date</th>\n",
       "      <th></th>\n",
       "      <th></th>\n",
       "      <th></th>\n",
       "      <th></th>\n",
       "      <th></th>\n",
       "      <th></th>\n",
       "      <th></th>\n",
       "    </tr>\n",
       "  </thead>\n",
       "  <tbody>\n",
       "    <tr>\n",
       "      <th>1997-07-01 00:00:00+05:30</th>\n",
       "      <td>4263.109863</td>\n",
       "      <td>4301.77002</td>\n",
       "      <td>4247.660156</td>\n",
       "      <td>4300.859863</td>\n",
       "      <td>0</td>\n",
       "      <td>0.0</td>\n",
       "      <td>0.0</td>\n",
       "    </tr>\n",
       "  </tbody>\n",
       "</table>\n",
       "</div>"
      ],
      "text/plain": [
       "                                  Open        High          Low        Close  \\\n",
       "Date                                                                           \n",
       "1997-07-01 00:00:00+05:30  4263.109863  4301.77002  4247.660156  4300.859863   \n",
       "\n",
       "                           Volume  Dividends  Stock Splits  \n",
       "Date                                                        \n",
       "1997-07-01 00:00:00+05:30       0        0.0           0.0  "
      ]
     },
     "execution_count": 21,
     "metadata": {},
     "output_type": "execute_result"
    }
   ],
   "source": [
    "# ran the created function to gather the data from yfinance \n",
    "# utilized the '.head()' at teh end of function to limit the output\n",
    "# as in Jupyter Notebook or IPython, the last line of a cell automatically gets \"printed\" if it's not assigned or explicitly suppressed.\n",
    "data_scrap('^BSESN','max').head(1) "
   ]
  },
  {
   "cell_type": "code",
   "execution_count": 22,
   "id": "9d716355-90c9-4c68-9f16-eace056818cc",
   "metadata": {},
   "outputs": [
    {
     "name": "stdout",
     "output_type": "stream",
     "text": [
      "dict_keys(['data_^BSESN'])\n"
     ]
    }
   ],
   "source": [
    "# viewing the present names(keys) of dataframes in the data_dic\n",
    "print(data_dic.keys())"
   ]
  },
  {
   "cell_type": "code",
   "execution_count": 23,
   "id": "2f65de98-fabe-4ba4-b3ee-5c3d4274d95b",
   "metadata": {},
   "outputs": [
    {
     "data": {
      "text/plain": [
       "['Open', 'High', 'Low', 'Close', 'Volume', 'Dividends', 'Stock Splits']"
      ]
     },
     "execution_count": 23,
     "metadata": {},
     "output_type": "execute_result"
    }
   ],
   "source": [
    "# ran the function data_col_nlist to grab the list of column heads in the dataframe\n",
    "data_col_nlist(data_dic, 'data_^BSESN')"
   ]
  },
  {
   "cell_type": "code",
   "execution_count": 24,
   "id": "a21007c6-7084-4239-b5c0-570272d2c734",
   "metadata": {},
   "outputs": [
    {
     "data": {
      "text/html": [
       "<div>\n",
       "<style scoped>\n",
       "    .dataframe tbody tr th:only-of-type {\n",
       "        vertical-align: middle;\n",
       "    }\n",
       "\n",
       "    .dataframe tbody tr th {\n",
       "        vertical-align: top;\n",
       "    }\n",
       "\n",
       "    .dataframe thead th {\n",
       "        text-align: right;\n",
       "    }\n",
       "</style>\n",
       "<table border=\"1\" class=\"dataframe\">\n",
       "  <thead>\n",
       "    <tr style=\"text-align: right;\">\n",
       "      <th></th>\n",
       "      <th>Open</th>\n",
       "      <th>High</th>\n",
       "      <th>Low</th>\n",
       "      <th>Close</th>\n",
       "      <th>Volume</th>\n",
       "      <th>Dividends</th>\n",
       "      <th>Stock Splits</th>\n",
       "    </tr>\n",
       "    <tr>\n",
       "      <th>Date</th>\n",
       "      <th></th>\n",
       "      <th></th>\n",
       "      <th></th>\n",
       "      <th></th>\n",
       "      <th></th>\n",
       "      <th></th>\n",
       "      <th></th>\n",
       "    </tr>\n",
       "  </thead>\n",
       "  <tbody>\n",
       "    <tr>\n",
       "      <th>1997-07-01</th>\n",
       "      <td>4263.109863</td>\n",
       "      <td>4301.77002</td>\n",
       "      <td>4247.660156</td>\n",
       "      <td>4300.859863</td>\n",
       "      <td>0.0</td>\n",
       "      <td>0.0</td>\n",
       "      <td>0.0</td>\n",
       "    </tr>\n",
       "  </tbody>\n",
       "</table>\n",
       "</div>"
      ],
      "text/plain": [
       "                   Open        High          Low        Close  Volume  \\\n",
       "Date                                                                    \n",
       "1997-07-01  4263.109863  4301.77002  4247.660156  4300.859863     0.0   \n",
       "\n",
       "            Dividends  Stock Splits  \n",
       "Date                                 \n",
       "1997-07-01        0.0           0.0  "
      ]
     },
     "execution_count": 24,
     "metadata": {},
     "output_type": "execute_result"
    }
   ],
   "source": [
    "# ran the function to reset the dataframe index\n",
    "data_index(data_dic, 'data_^BSESN').head(1)"
   ]
  },
  {
   "cell_type": "code",
   "execution_count": 25,
   "id": "3d68b47a-ba97-47e8-9b16-981d7317247b",
   "metadata": {},
   "outputs": [
    {
     "name": "stdout",
     "output_type": "stream",
     "text": [
      "dict_keys(['data_^BSESN', 'nlistdata_^BSESN', 'idata_^BSESN'])\n"
     ]
    }
   ],
   "source": [
    "print(data_dic.keys())"
   ]
  },
  {
   "cell_type": "code",
   "execution_count": 26,
   "id": "876f3b63-54bc-49d9-8b3e-4494e03d69b7",
   "metadata": {},
   "outputs": [
    {
     "data": {
      "text/html": [
       "<div>\n",
       "<style scoped>\n",
       "    .dataframe tbody tr th:only-of-type {\n",
       "        vertical-align: middle;\n",
       "    }\n",
       "\n",
       "    .dataframe tbody tr th {\n",
       "        vertical-align: top;\n",
       "    }\n",
       "\n",
       "    .dataframe thead th {\n",
       "        text-align: right;\n",
       "    }\n",
       "</style>\n",
       "<table border=\"1\" class=\"dataframe\">\n",
       "  <thead>\n",
       "    <tr style=\"text-align: right;\">\n",
       "      <th></th>\n",
       "      <th>Close Price</th>\n",
       "    </tr>\n",
       "    <tr>\n",
       "      <th>Date</th>\n",
       "      <th></th>\n",
       "    </tr>\n",
       "  </thead>\n",
       "  <tbody>\n",
       "    <tr>\n",
       "      <th>1997-07-01</th>\n",
       "      <td>4300.859863</td>\n",
       "    </tr>\n",
       "  </tbody>\n",
       "</table>\n",
       "</div>"
      ],
      "text/plain": [
       "            Close Price\n",
       "Date                   \n",
       "1997-07-01  4300.859863"
      ]
     },
     "execution_count": 26,
     "metadata": {},
     "output_type": "execute_result"
    }
   ],
   "source": [
    "data_colex(data_dic, 'idata_^BSESN', 'nlistdata_^BSESN', 'Close', '^BSESN').head(1)"
   ]
  },
  {
   "cell_type": "code",
   "execution_count": 27,
   "id": "b857ff19-d686-4f62-acaa-15f076ca1879",
   "metadata": {},
   "outputs": [
    {
     "name": "stdout",
     "output_type": "stream",
     "text": [
      "dict_keys(['data_^BSESN', 'nlistdata_^BSESN', 'idata_^BSESN', 'cdata_^BSESN'])\n"
     ]
    }
   ],
   "source": [
    "print(data_dic.keys())"
   ]
  },
  {
   "cell_type": "code",
   "execution_count": 28,
   "id": "5c29e0f3-7809-4b34-a616-1434842cf8f6",
   "metadata": {},
   "outputs": [
    {
     "data": {
      "text/html": [
       "<div>\n",
       "<style scoped>\n",
       "    .dataframe tbody tr th:only-of-type {\n",
       "        vertical-align: middle;\n",
       "    }\n",
       "\n",
       "    .dataframe tbody tr th {\n",
       "        vertical-align: top;\n",
       "    }\n",
       "\n",
       "    .dataframe thead th {\n",
       "        text-align: right;\n",
       "    }\n",
       "</style>\n",
       "<table border=\"1\" class=\"dataframe\">\n",
       "  <thead>\n",
       "    <tr style=\"text-align: right;\">\n",
       "      <th></th>\n",
       "      <th>Close Price</th>\n",
       "    </tr>\n",
       "    <tr>\n",
       "      <th>Date</th>\n",
       "      <th></th>\n",
       "    </tr>\n",
       "  </thead>\n",
       "  <tbody>\n",
       "    <tr>\n",
       "      <th>1997-07-01</th>\n",
       "      <td>4300.859863</td>\n",
       "    </tr>\n",
       "  </tbody>\n",
       "</table>\n",
       "</div>"
      ],
      "text/plain": [
       "            Close Price\n",
       "Date                   \n",
       "1997-07-01  4300.859863"
      ]
     },
     "execution_count": 28,
     "metadata": {},
     "output_type": "execute_result"
    }
   ],
   "source": [
    "# cleaning the dataframe to the desired time lenght i.e. from Q3 of 1997 to Q1 of 2025\n",
    "data_date(data_dic, 'cdata_^BSESN', '^BSESN', '1997-07-01', '2025-03-31').head(1)"
   ]
  },
  {
   "cell_type": "raw",
   "id": "5f525352-873a-4421-ab34-4285a1421496",
   "metadata": {},
   "source": [
    "Data cleaning and formatting process done moving forward to the ARIMA process"
   ]
  },
  {
   "cell_type": "raw",
   "id": "77fdbe32-44c3-45ad-ac4b-e13dd38ad392",
   "metadata": {},
   "source": [
    "ARIMA ANAYSIS STEP 1:\n",
    "\n",
    "Test of stationary for the targeted data"
   ]
  },
  {
   "cell_type": "code",
   "execution_count": 29,
   "id": "65dfa952-803c-40dd-a939-eeee17d8f3e7",
   "metadata": {},
   "outputs": [
    {
     "name": "stdout",
     "output_type": "stream",
     "text": [
      "dict_keys(['adf_^BSESN'])\n"
     ]
    }
   ],
   "source": [
    "# viewing the avaliable dataframes for the ADF analyses\n",
    "print(adf_data.keys())"
   ]
  },
  {
   "cell_type": "code",
   "execution_count": 30,
   "id": "b333279e-8c70-49a2-a084-42143821cf0a",
   "metadata": {},
   "outputs": [
    {
     "name": "stdout",
     "output_type": "stream",
     "text": [
      "Metric                                        Value\n",
      "----------------------------------------------------\n",
      "ADF Statistic                              1.833510\n",
      "p-value                                    0.998413\n",
      "# Lags Used                                      34\n",
      "# Observations Used                            6800\n",
      "Critical Values               \n",
      "   1%                                     -3.431312\n",
      "   5%                                     -2.861965\n",
      "   10%                                    -2.566996\n"
     ]
    }
   ],
   "source": [
    "s_adfuller(adf_data, 'adf_^BSESN', 'adf_test0')\n",
    "test_result_print(adf_data, 'adf_test0')"
   ]
  },
  {
   "cell_type": "code",
   "execution_count": 31,
   "id": "d9ad8213-9906-4693-9a99-31bf3b9b5fc7",
   "metadata": {},
   "outputs": [],
   "source": [
    "# since p-value is not <0.05, the data is no t stationary"
   ]
  },
  {
   "cell_type": "code",
   "execution_count": 32,
   "id": "ca4c8b6c-676a-4c4f-8e0f-0f351f869619",
   "metadata": {},
   "outputs": [
    {
     "name": "stdout",
     "output_type": "stream",
     "text": [
      "dict_keys(['adf_^BSESN', 'adf_test0'])\n"
     ]
    }
   ],
   "source": [
    "print(adf_data.keys())"
   ]
  },
  {
   "cell_type": "code",
   "execution_count": 33,
   "id": "4bf972d7-e126-4be8-9f9b-0b92048bb990",
   "metadata": {},
   "outputs": [
    {
     "name": "stdout",
     "output_type": "stream",
     "text": [
      "Metric                                        Value\n",
      "----------------------------------------------------\n",
      "ADF Statistic                            -14.662549\n",
      "p-value                                    0.000000\n",
      "# Lags Used                                      33\n",
      "# Observations Used                            6800\n",
      "Critical Values               \n",
      "   1%                                     -3.431312\n",
      "   5%                                     -2.861965\n",
      "   10%                                    -2.566996\n"
     ]
    }
   ],
   "source": [
    "# running ADF test on the frist difference series\n",
    "data_f_diff(adf_data, 'adf_^BSESN')\n",
    "s_adfuller(adf_data, 'adf_^BSESN_fdiff', 'adf_test1')\n",
    "test_result_print(adf_data, 'adf_test1')\n"
   ]
  },
  {
   "cell_type": "code",
   "execution_count": 34,
   "id": "25ed0270-4ba1-4341-8bd7-8336a1cfbb90",
   "metadata": {},
   "outputs": [
    {
     "name": "stdout",
     "output_type": "stream",
     "text": [
      "Metric                                        Value\n",
      "----------------------------------------------------\n",
      "ADF Statistic                            -23.713437\n",
      "p-value                                    0.000000\n",
      "# Lags Used                                      33\n",
      "# Observations Used                            6799\n",
      "Critical Values               \n",
      "   1%                                     -3.431312\n",
      "   5%                                     -2.861965\n",
      "   10%                                    -2.566996\n"
     ]
    }
   ],
   "source": [
    "data_s_diff(adf_data, 'adf_^BSESN')\n",
    "s_adfuller(adf_data, 'adf_^BSESN_sdiff', 'adf_test2')\n",
    "test_result_print(adf_data, 'adf_test2')"
   ]
  },
  {
   "cell_type": "code",
   "execution_count": 35,
   "id": "e143c2f2-e468-4bb2-bb27-595e7a602bbc",
   "metadata": {},
   "outputs": [],
   "source": [
    "# as the p-value is less then 0.05 \n",
    "# and the ADF statistics(-23.713437) is at least one more then critical value at 5%(-2.861965)"
   ]
  },
  {
   "cell_type": "raw",
   "id": "13c863ee-6cef-4051-8803-9ca5045a3da5",
   "metadata": {},
   "source": [
    "--------------------------------------------------------------------------------------------------------------------------------"
   ]
  },
  {
   "cell_type": "raw",
   "id": "cc938213-a838-4a5f-ae82-bdbf233e08a9",
   "metadata": {},
   "source": [
    "ARIMA ANAYSIS STEP 2:\n",
    "\n",
    "By using Box-Jenkins methodology when need to find the ACF and PACF\n"
   ]
  },
  {
   "cell_type": "code",
   "execution_count": 36,
   "id": "c3c67cc8-fea6-4943-9a85-dfc4bed3fe1c",
   "metadata": {},
   "outputs": [
    {
     "name": "stdout",
     "output_type": "stream",
     "text": [
      "dict_keys(['adf_^BSESN', 'adf_test0', 'adf_^BSESN_fdiff', 'adf_test1', 'adf_^BSESN_sdiff', 'adf_test2'])\n"
     ]
    }
   ],
   "source": [
    "print(adf_data.keys())"
   ]
  },
  {
   "cell_type": "code",
   "execution_count": 37,
   "id": "f951b8ec-df19-41a8-9c01-c7902afb3caf",
   "metadata": {},
   "outputs": [
    {
     "data": {
      "image/png": "[encoded data removed]",
      "text/plain": [
       "<Figure size 640x480 with 1 Axes>"
      ]
     },
     "metadata": {},
     "output_type": "display_data"
    },
    {
     "data": {
      "image/png": "[encoded data removed]",
      "text/plain": [
       "<Figure size 640x480 with 1 Axes>"
      ]
     },
     "metadata": {},
     "output_type": "display_data"
    },
    {
     "data": {
      "text/plain": [
       "(<function statsmodels.graphics.tsaplots.plot_acf(x, ax=None, lags=None, *, alpha=0.05, use_vlines=True, adjusted=False, fft=False, missing='none', title='Autocorrelation', zero=True, auto_ylims=False, bartlett_confint=True, vlines_kwargs=None, **kwargs)>,\n",
       " <function statsmodels.graphics.tsaplots.plot_pacf(x, ax=None, lags=None, alpha=0.05, method='ywm', use_vlines=True, title='Partial Autocorrelation', zero=True, vlines_kwargs=None, **kwargs)>)"
      ]
     },
     "execution_count": 37,
     "metadata": {},
     "output_type": "execute_result"
    }
   ],
   "source": [
    "p_acf_pacf(adf_data, 'adf_^BSESN_sdiff', 'plot_acf' , 'plot_pacf', arima_data)"
   ]
  },
  {
   "cell_type": "code",
   "execution_count": 38,
   "id": "24c2c7f6-8096-4d56-9fe7-af6d75c390ee",
   "metadata": {},
   "outputs": [
    {
     "data": {
      "text/html": [
       "<div>\n",
       "<style scoped>\n",
       "    .dataframe tbody tr th:only-of-type {\n",
       "        vertical-align: middle;\n",
       "    }\n",
       "\n",
       "    .dataframe tbody tr th {\n",
       "        vertical-align: top;\n",
       "    }\n",
       "\n",
       "    .dataframe thead th {\n",
       "        text-align: right;\n",
       "    }\n",
       "</style>\n",
       "<table border=\"1\" class=\"dataframe\">\n",
       "  <thead>\n",
       "    <tr style=\"text-align: right;\">\n",
       "      <th></th>\n",
       "      <th>Lag</th>\n",
       "      <th>ACF</th>\n",
       "      <th>PACF</th>\n",
       "    </tr>\n",
       "  </thead>\n",
       "  <tbody>\n",
       "    <tr>\n",
       "      <th>0</th>\n",
       "      <td>0</td>\n",
       "      <td>1.0</td>\n",
       "      <td>1.0</td>\n",
       "    </tr>\n",
       "  </tbody>\n",
       "</table>\n",
       "</div>"
      ],
      "text/plain": [
       "   Lag  ACF  PACF\n",
       "0    0  1.0   1.0"
      ]
     },
     "execution_count": 38,
     "metadata": {},
     "output_type": "execute_result"
    }
   ],
   "source": [
    "v_acf_pacf(adf_data, 'adf_^BSESN_sdiff').head(1)"
   ]
  },
  {
   "cell_type": "code",
   "execution_count": 39,
   "id": "eed1ddb6-be43-4042-86f4-60cceeb0249a",
   "metadata": {},
   "outputs": [
    {
     "name": "stdout",
     "output_type": "stream",
     "text": [
      "dict_keys(['adf_^BSESN', 'adf_test0', 'adf_^BSESN_fdiff', 'adf_test1', 'adf_^BSESN_sdiff', 'adf_test2'])\n"
     ]
    }
   ],
   "source": [
    "print(adf_data.keys())"
   ]
  },
  {
   "cell_type": "code",
   "execution_count": 72,
   "id": "f1c78ff8-e1e9-4d15-b673-e8110a7fdb97",
   "metadata": {
    "scrolled": true
   },
   "outputs": [
    {
     "name": "stderr",
     "output_type": "stream",
     "text": [
      "C:\\IDE_s\\Lib\\site-packages\\statsmodels\\tsa\\base\\tsa_model.py:473: ValueWarning: A date index has been provided, but it has no associated frequency information and so will be ignored when e.g. forecasting.\n",
      "  self._init_dates(dates, freq)\n",
      "C:\\IDE_s\\Lib\\site-packages\\statsmodels\\tsa\\base\\tsa_model.py:473: ValueWarning: A date index has been provided, but it has no associated frequency information and so will be ignored when e.g. forecasting.\n",
      "  self._init_dates(dates, freq)\n",
      "C:\\IDE_s\\Lib\\site-packages\\statsmodels\\tsa\\base\\tsa_model.py:473: ValueWarning: A date index has been provided, but it has no associated frequency information and so will be ignored when e.g. forecasting.\n",
      "  self._init_dates(dates, freq)\n"
     ]
    },
    {
     "name": "stdout",
     "output_type": "stream",
     "text": [
      "                               SARIMAX Results                                \n",
      "==============================================================================\n",
      "Dep. Variable:            Close Price   No. Observations:                 6833\n",
      "Model:                 ARIMA(2, 2, 0)   Log Likelihood              -54843.783\n",
      "Date:                Tue, 17 Jun 2025   AIC                         109693.565\n",
      "Time:                        20:01:37   BIC                         109714.053\n",
      "Sample:                             0   HQIC                        109700.634\n",
      "                               - 6833                                         \n",
      "Covariance Type:                  opg                                         \n",
      "==============================================================================\n",
      "                 coef    std err          z      P>|z|      [0.025      0.975]\n",
      "------------------------------------------------------------------------------\n",
      "ar.L1         -1.2008      0.003   -345.280      0.000      -1.208      -1.194\n",
      "ar.L2         -0.5839      0.003   -174.292      0.000      -0.590      -0.577\n",
      "sigma2      5.511e+05   3177.744    173.414      0.000    5.45e+05    5.57e+05\n",
      "===================================================================================\n",
      "Ljung-Box (L1) (Q):                 551.69   Jarque-Bera (JB):            108994.82\n",
      "Prob(Q):                              0.00   Prob(JB):                         0.00\n",
      "Heteroskedasticity (H):              28.99   Skew:                             0.16\n",
      "Prob(H) (two-sided):                  0.00   Kurtosis:                        22.57\n",
      "===================================================================================\n",
      "\n",
      "Warnings:\n",
      "[1] Covariance matrix calculated using the outer product of gradients (complex-step).\n"
     ]
    },
    {
     "data": {
      "text/plain": [
       "<statsmodels.tsa.arima.model.ARIMAResultsWrapper at 0x201c53cfd70>"
      ]
     },
     "execution_count": 72,
     "metadata": {},
     "output_type": "execute_result"
    }
   ],
   "source": [
    "arima_m(adf_data, 'adf_^BSESN_sdiff', 2, 2, 0, 'model_fit_1')\n"
   ]
  },
  {
   "cell_type": "code",
   "execution_count": 73,
   "id": "75320387-c840-4ae8-966e-7be81347e1a2",
   "metadata": {},
   "outputs": [
    {
     "name": "stdout",
     "output_type": "stream",
     "text": [
      "dict_keys(['plot_acf', 'plot_pacf', 'acf_pacf_v', 'model_fit_1', 'forecast_1', 'numeric_forecast_1', 'numeric_numeric_forecast_1'])\n"
     ]
    }
   ],
   "source": [
    "print(arima_data.keys())"
   ]
  },
  {
   "cell_type": "code",
   "execution_count": 74,
   "id": "74ef9029-8b43-4559-97ba-930f27368381",
   "metadata": {},
   "outputs": [
    {
     "name": "stderr",
     "output_type": "stream",
     "text": [
      "C:\\IDE_s\\Lib\\site-packages\\statsmodels\\tsa\\base\\tsa_model.py:836: ValueWarning: No supported index is available. Prediction results will be given with an integer index beginning at `start`.\n",
      "  return get_prediction_index(\n",
      "C:\\IDE_s\\Lib\\site-packages\\statsmodels\\tsa\\base\\tsa_model.py:836: FutureWarning: No supported index is available. In the next version, calling this method in a model without a supported index will result in an exception.\n",
      "  return get_prediction_index(\n"
     ]
    },
    {
     "data": {
      "text/plain": [
       "6833    1084.737804\n",
       "6834     860.285230\n",
       "6835     980.345492\n",
       "6836    1748.560495\n",
       "6837    1537.299291\n",
       "6838    2123.778526\n",
       "6839    2324.202001\n",
       "6840    2522.429781\n",
       "6841    2948.703447\n",
       "6842    3102.415037\n",
       "Name: predicted_mean, dtype: float64"
      ]
     },
     "execution_count": 74,
     "metadata": {},
     "output_type": "execute_result"
    }
   ],
   "source": [
    "forecast(arima_data , 'model_fit_1', 10,'forecast_1')"
   ]
  },
  {
   "cell_type": "code",
   "execution_count": 75,
   "id": "916fce6c-065f-4487-bd5a-cfdeae08b4f1",
   "metadata": {},
   "outputs": [
    {
     "name": "stdout",
     "output_type": "stream",
     "text": [
      "dict_keys(['plot_acf', 'plot_pacf', 'acf_pacf_v', 'model_fit_1', 'forecast_1', 'numeric_forecast_1', 'numeric_numeric_forecast_1'])\n"
     ]
    }
   ],
   "source": [
    "print(arima_data.keys())"
   ]
  },
  {
   "cell_type": "code",
   "execution_count": 76,
   "id": "850f3c02-374f-4842-9822-d94a3ac09231",
   "metadata": {},
   "outputs": [
    {
     "name": "stdout",
     "output_type": "stream",
     "text": [
      "dict_keys(['data_^BSESN', 'nlistdata_^BSESN', 'idata_^BSESN', 'cdata_^BSESN'])\n"
     ]
    }
   ],
   "source": [
    "print(data_dic.keys())"
   ]
  },
  {
   "cell_type": "code",
   "execution_count": 77,
   "id": "62e209d0-a6b0-4d30-bb0c-ef3cc5adecb4",
   "metadata": {},
   "outputs": [
    {
     "name": "stdout",
     "output_type": "stream",
     "text": [
      "dict_keys(['adf_^BSESN', 'adf_test0', 'adf_^BSESN_fdiff', 'adf_test1', 'adf_^BSESN_sdiff', 'adf_test2'])\n"
     ]
    }
   ],
   "source": [
    "print(adf_data.keys())"
   ]
  },
  {
   "cell_type": "code",
   "execution_count": 78,
   "id": "26d8d10f-4136-435c-aa76-5d554c3e03f4",
   "metadata": {},
   "outputs": [
    {
     "data": {
      "text/plain": [
       "6833     575.300304\n",
       "6834     350.847730\n",
       "6835     470.907992\n",
       "6836    1239.122995\n",
       "6837    1027.861791\n",
       "6838    1614.341026\n",
       "6839    1814.764501\n",
       "6840    2012.992281\n",
       "6841    2439.265947\n",
       "6842    2592.977537\n",
       "Name: predicted_mean, dtype: float64"
      ]
     },
     "execution_count": 78,
     "metadata": {},
     "output_type": "execute_result"
    }
   ],
   "source": [
    "a_forecast(arima_data, 'forecast_1', adf_data, 'adf_^BSESN_sdiff')"
   ]
  },
  {
   "cell_type": "raw",
   "id": "969cf1c0-0844-4e2f-9a9f-6d8181e93d18",
   "metadata": {},
   "source": [
    "-------------------------------------------------------end---------------------------------------------------------------------"
   ]
  }
 ],
 "metadata": {
  "kernelspec": {
   "display_name": "Python 3 (ipykernel)",
   "language": "python",
   "name": "python3"
  },
  "language_info": {
   "codemirror_mode": {
    "name": "ipython",
    "version": 3
   },
   "file_extension": ".py",
   "mimetype": "text/x-python",
   "name": "python",
   "nbconvert_exporter": "python",
   "pygments_lexer": "ipython3",
   "version": "3.12.7"
  }
 },
 "nbformat": 4,
 "nbformat_minor": 5
}
